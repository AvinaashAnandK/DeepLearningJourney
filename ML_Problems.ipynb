{
  "nbformat": 4,
  "nbformat_minor": 0,
  "metadata": {
    "colab": {
      "provenance": [],
      "toc_visible": true,
      "collapsed_sections": [
        "hpQYciCf5qSa",
        "HZM4EgFp940h",
        "yxKOSTpXIgFc",
        "JG4R-C1Om21o"
      ],
      "authorship_tag": "ABX9TyM4K7syESVKM2n9aDxsQQj6",
      "include_colab_link": true
    },
    "kernelspec": {
      "name": "python3",
      "display_name": "Python 3"
    },
    "language_info": {
      "name": "python"
    }
  },
  "cells": [
    {
      "cell_type": "markdown",
      "metadata": {
        "id": "view-in-github",
        "colab_type": "text"
      },
      "source": [
        "<a href=\"https://colab.research.google.com/github/AvinaashAnandK/DeepLearningJourney/blob/main/ML_Problems.ipynb\" target=\"_parent\"><img src=\"https://colab.research.google.com/assets/colab-badge.svg\" alt=\"Open In Colab\"/></a>"
      ]
    },
    {
      "cell_type": "markdown",
      "source": [
        "#[ML Problems](https://www.deep-ml.com)\n",
        "\n",
        "## Problem List\n",
        "| #  | Title | Category | Difficulty | Status | Source |\n",
        "|----|-------|----------|------------|--------|--------|\n",
        "| 1  | [Matrix times Vector](https://www.deep-ml.com/problem/Matrix%20times%20Vector) | linear algebra | Easy | <span style=\"color:green\">Solved</span> | Deep ML |\n",
        "| 2  | [Transpose of a Matrix](https://www.deep-ml.com/problem/Transpose%20of%20a%20Matrix) | linear algebra | Easy | <span style=\"color:green\">Solved</span> | Deep ML |\n",
        "| 3  | [Reshape Matrix](https://www.deep-ml.com/problem/Reshape%20Matrix) | linear algebra | Easy | <span style=\"color:green\">Solved</span> | Deep ML |\n",
        "| 4  | [Calculate Mean by Row or Column](https://www.deep-ml.com/problem/Calculate%20Mean%20by%20Row%20or%20Column) | linear algebra | Easy | <span style=\"color:green\">Solved</span> | Deep ML |\n",
        "| 5  | [Scalar Multiplication of a Matrix](https://www.deep-ml.com/problem/Scalar%20Multiplication%20of%20a%20Matrix) | linear algebra | Easy | <span style=\"color:green\">Solved</span> | Deep ML |\n",
        "| 6  | [Calculate Eigenvalues of a Matrix](https://www.deep-ml.com/problem/Calculate%20Eigenvalues%20of%20a%20Matrix) | linear algebra | Medium | <span style=\"color:green\">Solved</span> | Deep ML |\n",
        "| 7  | [Matrix Transformation](https://www.deep-ml.com/problem/Matrix%20Transformation) | linear algebra | Medium | <span style=\"color:green\">Solved</span> | Deep ML |\n",
        "| 8  | [Calculate 2x2 Matrix Inverse](https://www.deep-ml.com/problem/Calculate%202x2%20Matrix%20Inverse) | linear algebra | Medium | <span style=\"color:green\">Solved</span> | Deep ML |\n",
        "| 9  | [Matrix times Matrix](https://www.deep-ml.com/problem/Matrix%20times%20Matrix) | linear algebra | Medium | <span style=\"color:green\">Solved</span> | Deep ML |\n",
        "| 10 | [Calculate Covariance Matrix](https://www.deep-ml.com/problem/Calculate%20Covariance%20Matrix) | linear algebra | Medium | <span style=\"color:green\">Solved</span> | Deep ML |\n",
        "| 11 | [Solve Linear Equations using Jacobi Method](https://www.deep-ml.com/problem/Solve%20Linear%20Equations%20using%20Jacobi%20Method) | linear algebra | Medium | Unsolved | Deep ML |\n",
        "| 12 | [Singular Value Decomposition (SVD)](https://www.deep-ml.com/problem/Singular%20Value%20Decomposition%20(SVD)) | linear algebra | Hard | Unsolved | Deep ML |\n",
        "| 13 | [Determinant of a 4x4 Matrix using Laplace's Expansion](https://www.deep-ml.com/problem/Determinant%20of%20a%204x4%20Matrix%20using%20Laplace's%20Expansion) | linear algebra | Hard | Unsolved | Deep ML |\n",
        "| 14 | [Linear Regression Using Normal Equation](https://www.deep-ml.com/problem/Linear%20Regression%20Using%20Normal%20Equation) | machine learning | Easy | Unsolved | Deep ML |\n",
        "| 15 | [Linear Regression Using Gradient Descent](https://www.deep-ml.com/problem/Linear%20Regression%20Using%20Gradient%20Descent) | machine learning | Easy | Unsolved | Deep ML |"
      ],
      "metadata": {
        "id": "6GZcW5yK1SV8"
      }
    },
    {
      "cell_type": "markdown",
      "source": [
        "# Problem 1: Matrix times Vector\n",
        "\n",
        "Write a Python function that takes the dot product of a matrix and a vector. return -1 if the matrix could not be dotted with the vector\n",
        "```\n",
        "        input: a = [[1,2],[2,4]], b = [1,2]\n",
        "        output:[5, 10]\n",
        "        reasoning: 1*1 + 2*2 = 5;\n",
        "                   1*2+ 2*4 = 10\n",
        "```\n",
        "\n",
        "### Notes:\n",
        "```\n",
        "Matrix A: M x N\n",
        "Matrix B: A x B\n",
        "- if N != A, return -1\n",
        "- else, loop through A till M, loop each element till N, multiply A[i][j] with B[j] and add to sum\n",
        "```"
      ],
      "metadata": {
        "id": "hpQYciCf5qSa"
      }
    },
    {
      "cell_type": "code",
      "source": [
        "def matrix_dot_vector(a:list[list[int|float]],b:list[int|float])-> list[int|float]:\n",
        "    if len(a[0]) != len(b):\n",
        "        return -1\n",
        "    vals = []\n",
        "    for i in a:\n",
        "        hold = 0\n",
        "        for j in range(len(i)):\n",
        "            hold+=(i[j] * b[j])\n",
        "        vals.append(hold)\n",
        "\n",
        "    return vals"
      ],
      "metadata": {
        "id": "K0N_28yd5qBw"
      },
      "execution_count": null,
      "outputs": []
    },
    {
      "cell_type": "code",
      "source": [],
      "metadata": {
        "id": "VLM_hkFe5x5U"
      },
      "execution_count": null,
      "outputs": []
    },
    {
      "cell_type": "markdown",
      "source": [
        "# Problem 2: Transpose of a Matrix\n",
        "\n",
        "Write a Python function that computes the transpose of a given matrix.\n",
        "\n",
        "```\n",
        "        input: a = [[1,2,3],[4,5,6]]\n",
        "        output: [[1,4],[2,5],[3,6]]\n",
        "        reasoning: The transpose of a matrix is obtained by flipping rows and columns.\n",
        "```\n",
        "\n",
        "### Notes:\n",
        "```\n",
        "Matrix A: M x N\n",
        "Transpose would be N x M\n",
        "- Iterate over N, to obtain the indices\n",
        "- Access the elements from those indices for all rows, maintain it as new row\n",
        "- Append to output array as new row\n",
        "```"
      ],
      "metadata": {
        "id": "HZM4EgFp940h"
      }
    },
    {
      "cell_type": "code",
      "source": [
        "def transpose_matrix(a: list[list[int|float]]) -> list[list[int|float]]:\n",
        "\tn = len(a[0])\n",
        "\tb = []\n",
        "\tfor i in range(n):\n",
        "\t\trow_new = []\n",
        "\t\tfor row in a:\n",
        "\t\t\trow_new.append(row[i])\n",
        "\t\tb.append(row_new)\n",
        "\n",
        "\treturn b"
      ],
      "metadata": {
        "id": "TmHzK8TQGonK"
      },
      "execution_count": null,
      "outputs": []
    },
    {
      "cell_type": "code",
      "source": [
        "# Alternatively, we can use zip(*a), *zipped unpacks the list of list and then creates new tupples,  grouping the first elements, second elements, and so on.\n",
        "def transpose_matrix(a: list[list[int|float]]) -> list[list[int|float]]:\n",
        "    return [list(i) for i in zip(*a)]\n"
      ],
      "metadata": {
        "id": "rF81mO0tGquN"
      },
      "execution_count": null,
      "outputs": []
    },
    {
      "cell_type": "markdown",
      "source": [
        "# Problem 3: Reshape Matrix\n",
        "\n",
        "Write a Python function that reshapes a given matrix into a specified shape.\n",
        "\n",
        "```\n",
        "        input: a = [[1,2,3,4],[5,6,7,8]], new_shape = (4, 2)\n",
        "        output: [[1, 2], [3, 4], [5, 6], [7, 8]]\n",
        "        reasoning: The given matrix is reshaped from 2x4 to 4x2.\n",
        "```\n",
        "\n",
        "### Notes:\n",
        "```\n",
        "Matrix A: M x N\n",
        "Reshaped to A x B\n",
        "- Check if M*N == A*B, else return -1\n",
        "- We can create an ordered list by iterating over M and extending the list of elements\n",
        "- We can then slice the ordered list at A entries to create new rows\n",
        "```"
      ],
      "metadata": {
        "id": "yxKOSTpXIgFc"
      }
    },
    {
      "cell_type": "code",
      "source": [
        "import numpy as np\n",
        "\n",
        "def reshape_matrix(a: list[list[int|float]], new_shape: tuple[int, int]) -> list[list[int|float]]:\n",
        "\t#Write your code here and return a python list after reshaping by using numpy's tolist() method\n",
        "\tm = len(a)\n",
        "\tn = len(a[0])\n",
        "\trows = new_shape[0]\n",
        "\tcols = new_shape[1]\n",
        "\tlist_ele = []\n",
        "\treshaped_matrix = []\n",
        "\n",
        "\tif n*m != np.prod(new_shape):\n",
        "\t\treturn -1\n",
        "\telse:\n",
        "\t\tfor row in a:\n",
        "\t\t\tlist_ele.extend(row)\n",
        "\t\tfor i in range(rows):\n",
        "\t\t\tstart_idx = i*cols\n",
        "\t\t\tend_idx = (i+1)*cols\n",
        "\t\t\tnew_row = list_ele[start_idx:end_idx]\n",
        "\t\t\treshaped_matrix.append(new_row)\n",
        "\n",
        "\treturn reshaped_matrix"
      ],
      "metadata": {
        "id": "3RUjvo74mrao"
      },
      "execution_count": null,
      "outputs": []
    },
    {
      "cell_type": "code",
      "source": [
        "# Alternatively, we can use np.reshape\n",
        "import numpy as np\n",
        "\n",
        "def reshape_matrix(a: list[list[int|float]], new_shape: tuple[int|float]) -> list[list[int|float]]:\n",
        "    return np.array(a).reshape(new_shape).tolist()"
      ],
      "metadata": {
        "id": "goALefjbmuo8"
      },
      "execution_count": null,
      "outputs": []
    },
    {
      "cell_type": "markdown",
      "source": [
        "# Problem 4: Calculate Mean by Row or Column\n",
        "\n",
        "Write a Python function that calculates the mean of a matrix either by row or by column, based on a given mode. The function should take a matrix (list of lists) and a mode ('row' or 'column') as input and return a list of means according to the specified mode.\n",
        "```\n",
        "        input: matrix = [[1, 2, 3], [4, 5, 6], [7, 8, 9]], mode = 'column'\n",
        "        output: [4.0, 5.0, 6.0]\n",
        "        reasoning: Calculating the mean of each column results in [(1+4+7)/3, (2+5+8)/3, (3+6+9)/3].\n",
        "        \n",
        "        Example 2:\n",
        "        input: matrix = [[1, 2, 3], [4, 5, 6], [7, 8, 9]], mode = 'row'\n",
        "        output: [2.0, 5.0, 8.0]\n",
        "        reasoning: Calculating the mean of each row results in [(1+2+3)/3, (4+5+6)/3, (7+8+9)/3].\n",
        "```\n",
        "\n",
        "### Notes:\n",
        "```\n",
        "- Use zip as in the transpose implementation\n",
        "```"
      ],
      "metadata": {
        "id": "JG4R-C1Om21o"
      }
    },
    {
      "cell_type": "code",
      "source": [
        "import numpy as np\n",
        "\n",
        "def calculate_matrix_mean(matrix: list[list[float]], mode: str) -> list[float]:\n",
        "\tmeans = []\n",
        "\tif mode == 'row':\n",
        "\t\tmeans = [np.mean(row) for row in zip(matrix)]\n",
        "\telse:\n",
        "\t\tmeans = [np.mean(col) for col in zip(*matrix)]\n",
        "\treturn means"
      ],
      "metadata": {
        "id": "NBWdCh-mptjT"
      },
      "execution_count": null,
      "outputs": []
    },
    {
      "cell_type": "code",
      "source": [
        "def calculate_matrix_mean(matrix: list[list[float]], mode: str) -> list[float]:\n",
        "    if mode == 'column':\n",
        "        return [sum(col) / len(matrix) for col in zip(*matrix)]\n",
        "    elif mode == 'row':\n",
        "        return [sum(row) / len(row) for row in matrix]\n",
        "    else:\n",
        "        raise ValueError(\"Mode must be 'row' or 'column'\")"
      ],
      "metadata": {
        "id": "8j6bu0HSp0Bj"
      },
      "execution_count": null,
      "outputs": []
    },
    {
      "cell_type": "markdown",
      "source": [
        "# Problem 5: Scalar Multiplication of a Matrix\n",
        "\n",
        "Write a Python function that takes the dot product of a matrix and a vector. return -1 if the matrix could not be dotted with the vector\n",
        "```\n",
        "        input: a = [[1,2],[2,4]], b = [1,2]\n",
        "        output:[5, 10]\n",
        "        reasoning: 1*1 + 2*2 = 5;\n",
        "                   1*2+ 2*4 = 10\n",
        "```\n",
        "\n",
        "### Notes:\n",
        "```\n",
        "Matrix A: M x N\n",
        "Matrix B: A x B\n",
        "- if N != A, return -1\n",
        "- else, loop through A till M, loop each element till N, multiply A[i][j] with B[j] and add to sum\n",
        "```"
      ],
      "metadata": {
        "id": "lBtIbqJhp9e1"
      }
    },
    {
      "cell_type": "code",
      "source": [
        "def scalar_multiply(matrix: list[list[int|float]], scalar: int|float) -> list[list[int|float]]:\n",
        "\treturn [[scalar* element for element in row] for row in matrix]"
      ],
      "metadata": {
        "id": "d_VqSy_9p8iV"
      },
      "execution_count": null,
      "outputs": []
    },
    {
      "cell_type": "markdown",
      "source": [
        "# Problem 6: Calculate Eigenvalues of a Matrix\n",
        "\n",
        "Write a Python function that calculates the eigenvalues of a 2x2 matrix. The function should return a list containing the eigenvalues, sort values from highest to lowest.\n",
        "```\n",
        "        input: matrix = [[2, 1], [1, 2]]\n",
        "        output: [3.0, 1.0]\n",
        "        reasoning: The eigenvalues of the matrix are calculated using the characteristic equation of the matrix, which for a 2x2 matrix is $\\lambda^2 - \text{trace}(A)\\lambda + \text{det}(A) = 0$, where $\\lambda$ are the eigenvalues.\n",
        "```\n",
        "\n",
        "### Notes:\n",
        "```\n",
        "- Trace of a matrix (i.e. mean(a,d)) = mean(eigenvalues)\n",
        "- Det of a matrix (i.e. ad - bc) = prod(eigenvalues)\n",
        "=> eigenvalue 1 = m + sqrt(m^2 - p)\n",
        "=> eigenvalue 2 = m - sqrt(m^2 - p)\n",
        "```"
      ],
      "metadata": {
        "id": "Ixn46x6KUb4m"
      }
    },
    {
      "cell_type": "code",
      "source": [
        "def calculate_eigenvalues(matrix: list[list[float|int]]) -> list[float]:\n",
        "\tm = (matrix[0][0]+matrix[1][1])/2\n",
        "\tp = matrix[0][0] * matrix[1][1]-matrix[0][1] * matrix[1][0]\n",
        "\teigenvalues = [m+(m**2 - p)**0.5, m-(m**2 - p)**0.5]\n",
        "\treturn eigenvalues"
      ],
      "metadata": {
        "id": "7GsfOjr2UsIm"
      },
      "execution_count": null,
      "outputs": []
    },
    {
      "cell_type": "markdown",
      "source": [
        "# Problem 7: Matrix Transformation\n",
        "\n",
        "Write a Python function that transforms a given matrix A using the operation T^-1AS, where T and S are invertible matrices. The function should first validate if the matrices T and S are invertible, and then perform the transformation. In cases where there is no solution return -1\n",
        "```\n",
        "        input: A = [[1, 2], [3, 4]], T = [[2, 0], [0, 2]], S = [[1, 1], [0, 1]]\n",
        "        output: [[0.5,1.5],[1.5,3.5]]\n",
        "        reasoning: The matrices T and S are used to transform matrix A by computing $T^{-1}AS$.\n",
        "```\n",
        "\n",
        "### Notes:\n",
        "```\n",
        "- Determinate of a matrix in numpy np.linalg.det(matrix)\n",
        "- Inverse of a matrix in numpy np.linalg.inv(matrix)\n",
        "```"
      ],
      "metadata": {
        "id": "Q1q-ublFJZCE"
      }
    },
    {
      "cell_type": "code",
      "source": [
        "import numpy as np\n",
        "\n",
        "def transform_matrix(A: list[list[int|float]], T: list[list[int|float]], S: list[list[int|float]]) -> list[list[int|float]]:\n",
        "\tif (np.linalg.det(T) == 0 or np.linalg.det(S) == 0):\n",
        "\t\treturn -1\n",
        "\telse:\n",
        "\t\ttransformed_matrix = np.dot(np.linalg.inv(T),np.dot(A,S))\n",
        "\treturn transformed_matrix"
      ],
      "metadata": {
        "id": "rO7zt_lFJYjB"
      },
      "execution_count": null,
      "outputs": []
    },
    {
      "cell_type": "markdown",
      "source": [
        "# Problem 8: Calculate 2x2 Matrix Inverse\n",
        "\n",
        "Write a Python function that calculates the inverse of a 2x2 matrix. Return 'None' if the matrix is not invertible.\n",
        "\n",
        "```\n",
        "        input: matrix = [[4, 7], [2, 6]]\n",
        "        output: [[0.6, -0.7], [-0.2, 0.4]]\n",
        "        reasoning: The inverse of a 2x2 matrix [a, b], [c, d] is given by (1/(ad-bc)) * [d, -b], [-c, a], provided ad-bc is not zero.\n",
        "```\n",
        "\n",
        "### Notes:\n",
        "```\n",
        "- Calculate determinate of a matrix\n",
        "- Manually inverse matrix and divide by determinante\n",
        "```"
      ],
      "metadata": {
        "id": "GknTpkUzKATn"
      }
    },
    {
      "cell_type": "code",
      "source": [
        "def inverse_2x2(matrix: list[list[float]]) -> list[list[float]]:\n",
        "\ta = matrix[0][0]\n",
        "\tb = matrix[0][1]\n",
        "\tc = matrix[1][0]\n",
        "\td = matrix[1][1]\n",
        "\tdet = a*d - b*c\n",
        "\tif det == 0:\n",
        "\t\treturn None\n",
        "\n",
        "\tinverse = [[d/det, b/(-det)],[c/(-det), a/det]]\n",
        "\treturn inverse"
      ],
      "metadata": {
        "id": "dDWQ4aEHKHah"
      },
      "execution_count": null,
      "outputs": []
    },
    {
      "cell_type": "markdown",
      "source": [
        "# Problem 9: Matrix times Matrix\n",
        "\n",
        "Multiply two matrices together (return -1 if shapes of matrix dont aline), i.e. C = A dot product B\n",
        "\n",
        "```\n",
        "Example:\n",
        "        input: A = [[1,2],\n",
        "                    [2,4]],\n",
        "               B = [[2,1],\n",
        "                    [3,4]]\n",
        "        output:[[ 8,  9],\n",
        "                [16, 18]]\n",
        "        reasoning: 1*2 + 2*3 = 8;\n",
        "                   2*2 + 3*4 = 16;\n",
        "                   1*1 + 2*4 = 9;\n",
        "                   2*1 + 4*4 = 18\n",
        "                    \n",
        "Example 2:\n",
        "        input: A = [[1,2],\n",
        "                    [2,4]],\n",
        "               B = [[2,1],\n",
        "                    [3,4],\n",
        "                    [4,5]]\n",
        "        output: -1\n",
        "        reasoning: the length of the rows of A does not equal\n",
        "          the column length of B\n",
        "```"
      ],
      "metadata": {
        "id": "p_9nHEXwN5_V"
      }
    },
    {
      "cell_type": "code",
      "source": [
        "def matrixmul(a:list[list[int|float]],\n",
        "              b:list[list[int|float]])-> list[list[int|float]]:\n",
        "\tm,n,x,y = len(a), len(a[0]),len(b),len(b[0])\n",
        "\tif n != x:\n",
        "\t\treturn -1\n",
        "\telse:\n",
        "\t\tc = []\n",
        "\t\tcols_b = [list(ele) for ele in zip(*b)]\n",
        "\t\tfor row_a in a:\n",
        "\t\t\tprod_row = []\n",
        "\t\t\tfor col_no_b in range(y):\n",
        "\t\t\t\tprod_ele = 0\n",
        "\t\t\t\tcol_b = cols_b[col_no_b]\n",
        "\t\t\t\tfor ele in range(x):\n",
        "\t\t\t\t\tprod_ele += row_a[ele]*col_b[ele]\n",
        "\n",
        "\t\t\t\tprod_row.append(prod_ele)\n",
        "\t\t\tc.append(prod_row)\n",
        "\treturn c"
      ],
      "metadata": {
        "id": "p-KQFsz3N5pg"
      },
      "execution_count": null,
      "outputs": []
    },
    {
      "cell_type": "code",
      "source": [
        "def matrixmul(a:list[list[int|float]],\n",
        "              b:list[list[int|float]])-> list[list[int|float]]:\n",
        "    if len(a[0]) != len(b):\n",
        "        return -1\n",
        "\n",
        "    vals = []\n",
        "    for i in range(len(a)):\n",
        "        hold = []\n",
        "        for j in range(len(b[0])):\n",
        "            val = 0\n",
        "            for k in range(len(b)):\n",
        "                val += a[i][k] * b[k][j]\n",
        "\n",
        "            hold.append(val)\n",
        "        vals.append(hold)\n",
        "\n",
        "    return vals"
      ],
      "metadata": {
        "id": "RxQoqrtDN9lX"
      },
      "execution_count": null,
      "outputs": []
    },
    {
      "cell_type": "markdown",
      "source": [
        "# Problem 10: Calculate Covariance Matrix\n",
        "\n",
        "Write a Python function that calculates the covariance matrix from a list of vectors. Assume that the input list represents a dataset where each vector is a feature, and vectors are of equal length.\n",
        "\n",
        "```\n",
        "        input: vectors = [[1, 2, 3], [4, 5, 6]]\n",
        "        output: [[1.0, 1.0], [1.0, 1.0]]\n",
        "        reasoning: The dataset has two features with three observations each. The covariance between each pair of features (including covariance with itself) is calculated and returned as a 2x2 matrix.\n",
        "```\n",
        "\n",
        "### Notes:\n",
        "```\n",
        "- For two variables X and Y, the population covariance is defined as:\n",
        "Cov(X,Y) = E[(X - μX)(Y - μY)]\n",
        "\n",
        "Where E is the expected value, and μX and μY are the means of X and Y respectively.\n",
        "\n",
        "- Sample covariance: For a sample, we use:\n",
        "Cov(X,Y) = Σ[(xi - x̄)(yi - ȳ)] / (n - 1)\n",
        "Where x̄ and ȳ are sample means, and n is the sample size.\n",
        "\n",
        "- Covariance Matrix =\n",
        "       Feature1   Feature2   ...   Featurem\n",
        "      ┌─────────────────────────────────────┐\n",
        "F1    │ Var(F1)   Cov(F1,F2) ... Cov(F1,Fm) │\n",
        "F2    │ Cov(F2,F1) Var(F2)   ... Cov(F2,Fm) │\n",
        ".     │    .         .       .       .      │\n",
        ".     │    .         .        .      .      │\n",
        ".     │    .         .         .     .      │\n",
        "Fm    │ Cov(Fm,F1) Cov(Fm,F2) ... Var(Fm)   │\n",
        "      └─────────────────────────────────────┘\n",
        "\n",
        "Where Var(F1) is nothing but Cov(F1,F1) and the matrix is symmetical\n",
        "```"
      ],
      "metadata": {
        "id": "TnFJxmBUOwEq"
      }
    },
    {
      "cell_type": "code",
      "source": [
        "def calculate_covariance_matrix(vectors: list[list[float]]) -> list[list[float]]:\n",
        "    n_features = len(vectors)\n",
        "    n_observations = len(vectors[0])\n",
        "    covariance_matrix = [[0 for _ in range(n_features)] for _ in range(n_features)]\n",
        "\n",
        "    means = [sum(feature) / n_observations for feature in vectors]\n",
        "\n",
        "    for i in range(n_features):\n",
        "        for j in range(i, n_features):\n",
        "            covariance = sum((vectors[i][k] - means[i]) * (vectors[j][k] - means[j]) for k in range(n_observations)) / (n_observations - 1)\n",
        "            covariance_matrix[i][j] = covariance_matrix[j][i] = covariance\n",
        "\n",
        "    return covariance_matrix"
      ],
      "metadata": {
        "id": "N9R3eZKVQFJW"
      },
      "execution_count": null,
      "outputs": []
    },
    {
      "cell_type": "markdown",
      "source": [
        "# Problem 11: Solve Linear Equations using Jacobi Method\n",
        "\n",
        "Write a Python function that uses the Jacobi method to solve a system of linear equations given by Ax = b. The function should iterate n times, rounding each intermediate solution to four decimal places, and return the approximate solution x.\n",
        "\n",
        "```\n",
        "        input: A = [[5, -2, 3], [-3, 9, 1], [2, -1, -7]], b = [-1, 2, 3], n=2\n",
        "        output: [0.146, 0.2032, -0.5175]\n",
        "        reasoning: The Jacobi method iteratively solves each equation for x[i] using the formula x[i] = (1/a_ii) * (b[i] - sum(a_ij * x[j] for j != i)), where a_ii is the diagonal element of A and a_ij are the off-diagonal elements.\n",
        "```\n",
        "\n",
        "### Notes:\n",
        "```\n",
        "- Choose initial values for x (often 0 or 1), i.e. init x tensor with all zeros.\n",
        "- Iteratively compute,\n",
        "  1. x₁ = (b₁ - a₁₂x₂ - a₁₃x₃ - ... - a₁ₙxₙ) / a₁₁\n",
        "  2. x₂ = (b₂ - a₂₁x₁ - a₂₃x₃ - ... - a₂ₙxₙ) / a₂₂\n",
        "    ...\n",
        "  3. xₙ = (bₙ - aₙ₁x₁ - aₙ₂x₂ - ... - aₙ,ₙ₋₁xₙ₋₁) / aₙₙ\n",
        "```"
      ],
      "metadata": {
        "id": "QvwFVam-PHeK"
      }
    },
    {
      "cell_type": "code",
      "source": [],
      "metadata": {
        "id": "1oeW6ZDiy93w"
      },
      "execution_count": null,
      "outputs": []
    },
    {
      "cell_type": "markdown",
      "source": [
        "# Problem 12: Singular Value Decomposition (SVD)\n",
        "\n",
        "Write a Python function that approximates the Singular Value Decomposition on a 2x2 matrix by using the jacobian method and without using numpy svd function, i mean you could but you wouldn't learn anything. return the result in this format.\n",
        "\n",
        "```\n",
        "        input: a = [[2, 1], [1, 2]]\n",
        "        output: (array([[-0.70710678, -0.70710678],\n",
        "                        [-0.70710678,  0.70710678]]),\n",
        "        array([3., 1.]),\n",
        "        array([[-0.70710678, -0.70710678],\n",
        "               [-0.70710678,  0.70710678]]))\n",
        "        reasoning: U is the first matrix sigma is the second vector and V is the third matrix\n",
        "```\n",
        "\n",
        "### Notes:\n",
        "```\n",
        "```"
      ],
      "metadata": {
        "id": "dbQzsH2BPIJv"
      }
    },
    {
      "cell_type": "markdown",
      "source": [
        "# Problem 13: Determinant of a 4x4 Matrix using Laplace's Expansion\n",
        "\n",
        "Write a Python function that calculates the determinant of a 4x4 matrix using Laplace's Expansion method. The function should take a single argument, a 4x4 matrix represented as a list of lists, and return the determinant of the matrix. The elements of the matrix can be integers or floating-point numbers. Implement the function recursively to handle the computation of determinants for the 3x3 minor matrices.\n",
        "\n",
        "```\n",
        "        input: a = [[1,2,3,4],[5,6,7,8],[9,10,11,12],[13,14,15,16]]\n",
        "        output: 0\n",
        "        reasoning: Using Laplace's Expansion, the determinant of a 4x4 matrix is calculated by expanding it into minors and cofactors along any row or column. Given the symmetrical and linear nature of this specific matrix, its determinant is 0. The calculation for a generic 4x4 matrix involves more complex steps, breaking it down into the determinants of 3x3 matrices.\n",
        "```\n",
        "\n",
        "### Notes:\n",
        "```\n",
        "```"
      ],
      "metadata": {
        "id": "AuisDI-aPIqb"
      }
    },
    {
      "cell_type": "markdown",
      "source": [
        "# Problem 14: Linear Regression Using Normal Equation\n",
        "\n",
        "Write a Python function that performs linear regression using the normal equation. The function should take a matrix X (features) and a vector y (target) as input, and return the coefficients of the linear regression model. Round your answer to four decimal places, -0.0 is a valid result for rounding a very small number.\n",
        "\n",
        "```\n",
        "        input: X = [[1, 1], [1, 2], [1, 3]], y = [1, 2, 3]\n",
        "        output: [0.0, 1.0]\n",
        "        reasoning: The linear model is y = 0.0 + 1.0*x, perfectly fitting the input data.\n",
        "```\n",
        "\n",
        "### Notes:\n",
        "```\n",
        "```"
      ],
      "metadata": {
        "id": "S06cAWieP2Zb"
      }
    },
    {
      "cell_type": "markdown",
      "source": [
        "# Problem 15: Linear Regression Using Gradient Descent\n",
        "\n",
        "Write a Python function that performs linear regression using gradient descent. The function should take NumPy arrays X (features with a column of ones for the intercept) and y (target) as input, along with learning rate alpha and the number of iterations, and return the coefficients of the linear regression model as a NumPy array. Round your answer to four decimal places. -0.0 is a valid result for rounding a very small number.\n",
        "\n",
        "```\n",
        "        input: X = np.array([[1, 1], [1, 2], [1, 3]]), y = np.array([1, 2, 3]), alpha = 0.01, iterations = 1000\n",
        "        output: np.array([0.1107, 0.9513])\n",
        "        reasoning: The linear model is y = 0.0 + 1.0*x, which fits the input data after gradient descent optimization.\n",
        "```\n",
        "\n",
        "### Notes:\n",
        "```\n",
        "```"
      ],
      "metadata": {
        "id": "gE7Fz0vFP9Pn"
      }
    },
    {
      "cell_type": "code",
      "source": [],
      "metadata": {
        "id": "H6Va158zOC2x"
      },
      "execution_count": null,
      "outputs": []
    }
  ]
}