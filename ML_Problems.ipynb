{
  "nbformat": 4,
  "nbformat_minor": 0,
  "metadata": {
    "colab": {
      "provenance": [],
      "toc_visible": true,
      "authorship_tag": "ABX9TyNZbex9a8rOQfHdp7tZbksQ",
      "include_colab_link": true
    },
    "kernelspec": {
      "name": "python3",
      "display_name": "Python 3"
    },
    "language_info": {
      "name": "python"
    }
  },
  "cells": [
    {
      "cell_type": "markdown",
      "metadata": {
        "id": "view-in-github",
        "colab_type": "text"
      },
      "source": [
        "<a href=\"https://colab.research.google.com/github/AvinaashAnandK/DeepLearningJourney/blob/main/ML_Problems.ipynb\" target=\"_parent\"><img src=\"https://colab.research.google.com/assets/colab-badge.svg\" alt=\"Open In Colab\"/></a>"
      ]
    },
    {
      "cell_type": "markdown",
      "source": [
        "#[ML Problems](https://www.deep-ml.com)\n",
        "\n",
        "## Problem List\n",
        "| # | Title                                                                                                          | Category       | Difficulty | Status   |\n",
        "| - | -------------------------------------------------------------------------------------------------------------- | -------------- | ---------- | -------- |\n",
        "| 1 | [Matrix times Vector](https://www.deep-ml.com/problem/Matrix%20times%20Vector)                                 | linear algebra | Easy       | Unsolved |\n",
        "| 2 | [Transpose of a Matrix](https://www.deep-ml.com/problem/Transpose%20of%20a%20Matrix)                           | linear algebra | Easy       | Unsolved |\n",
        "| 3 | [Reshape Matrix](https://www.deep-ml.com/problem/Reshape%20Matrix)                                             | linear algebra | Easy       | Unsolved |\n",
        "| 4 | [Calculate Mean by Row or Column](https://www.deep-ml.com/problem/Calculate%20Mean%20by%20Row%20or%20Column)   | linear algebra | Easy       | Unsolved |\n",
        "| 5 | [Scalar Multiplication of a Matrix](https://www.deep-ml.com/problem/Scalar%20Multiplication%20of%20a%20Matrix) | linear algebra | Easy       | Unsolved |\n",
        "| 6 | [Calculate Eigenvalues of a Matrix](https://www.deep-ml.com/problem/Calculate%20Eigenvalues%20of%20a%20Matrix) | linear algebra | Medium     | Unsolved |"
      ],
      "metadata": {
        "id": "6GZcW5yK1SV8"
      }
    },
    {
      "cell_type": "code",
      "execution_count": null,
      "metadata": {
        "id": "MMIoI5oJ0jo_"
      },
      "outputs": [],
      "source": [
        "# @title Problem 1: Matrix times Vector\n"
      ]
    }
  ]
}